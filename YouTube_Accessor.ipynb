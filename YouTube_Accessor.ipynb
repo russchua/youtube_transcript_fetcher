{
 "cells": [
  {
   "cell_type": "code",
   "execution_count": 26,
   "metadata": {},
   "outputs": [],
   "source": [
    "from pathlib import Path\n",
    "from bs4 import BeautifulSoup\n",
    "import requests\n",
    "from youtube_transcript_api import YouTubeTranscriptApi"
   ]
  },
  {
   "cell_type": "code",
   "execution_count": 27,
   "metadata": {},
   "outputs": [],
   "source": [
    "sample_url = \"https://www.youtube.com/watch?v=Op2m9AwHwmU\"\n",
    "video_title = \"Why The Smartest People I Know Set Constraints, Not Goals\"\n",
    "\n",
    "transcript_folder = Path(\"./transcripts\")\n",
    "transcript_save_path = transcript_folder / f\"{video_title}.txt\""
   ]
  },
  {
   "cell_type": "code",
   "execution_count": 28,
   "metadata": {},
   "outputs": [
    {
     "name": "stdout",
     "output_type": "stream",
     "text": [
      "Why The Smartest People I Know Set Constraints, Not Goals\n"
     ]
    }
   ],
   "source": [
    "# Get the title\n",
    "# Extracting HTML Code of the Video Page:\n",
    "response = requests.get(sample_url)\n",
    "html_content = response.text\n",
    "\n",
    "# Processing the HTML Code with BeautifulSoup\n",
    "soup = BeautifulSoup(html_content, 'html.parser')\n",
    "\n",
    "# Extracting <title> tag's content\n",
    "title_tag = soup.find('meta', property='og:title')\n",
    "video_title = title_tag['content'] if title_tag else 'Title not found'\n",
    "\n",
    "print(video_title)"
   ]
  },
  {
   "cell_type": "code",
   "execution_count": 22,
   "metadata": {},
   "outputs": [],
   "source": [
    "# Open the url and find the transcript for the video\n",
    "\n",
    "# Replace with the actual video ID (not the full URL)\n",
    "video_id = sample_url.split(\"v=\")[-1]  # Extract video ID from URL\n",
    "video_id = video_id.split(\"&\")[0]  # Remove any additional parameters if present\n",
    "video_id = video_id.split(\"?\")[0]  # Remove any additional parameters if present\n",
    "# video_id = \"dQw4w9WgXcQ\"  # Example: \"https://www.youtube.com/watch?v=dQw4w9WgXcQ\"\n",
    "\n",
    "# Fetch transcript\n",
    "try:\n",
    "    ytt_api = YouTubeTranscriptApi()\n",
    "    transcript = ytt_api.fetch(video_id)\n",
    "\n",
    "    # Combine transcript into a single string\n",
    "    full_text = \"\\n\".join([entry.text for entry in transcript])\n",
    "    # save the full text\n",
    "    transcript_folder.mkdir(parents=True, exist_ok=True)  # Create folder if it doesn't exist\n",
    "    with open(transcript_save_path, \"w\", encoding=\"utf-8\") as f:\n",
    "        f.write(full_text)\n",
    "\n",
    "except Exception as e:\n",
    "    print(\"An error occurred:\", e)\n"
   ]
  }
 ],
 "metadata": {
  "kernelspec": {
   "display_name": "pyqt",
   "language": "python",
   "name": "python3"
  },
  "language_info": {
   "codemirror_mode": {
    "name": "ipython",
    "version": 3
   },
   "file_extension": ".py",
   "mimetype": "text/x-python",
   "name": "python",
   "nbconvert_exporter": "python",
   "pygments_lexer": "ipython3",
   "version": "3.10.4"
  }
 },
 "nbformat": 4,
 "nbformat_minor": 2
}
